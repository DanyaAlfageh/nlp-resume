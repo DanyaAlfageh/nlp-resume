{
 "cells": [
  {
   "cell_type": "code",
   "execution_count": 1,
   "metadata": {
    "collapsed": false
   },
   "outputs": [],
   "source": [
    "## plot boilerplate\n",
    "%matplotlib inline\n",
    "import pandas as pd\n",
    "import matplotlib as mpl\n",
    "import matplotlib.pyplot as plt\n",
    "import seaborn as sns\n",
    "sns.set(style=\"whitegrid\", color_codes=True)\n",
    "mpl.rcParams['figure.figsize'] = (12.0, 8.0)"
   ]
  },
  {
   "cell_type": "markdown",
   "metadata": {},
   "source": [
    "## Scikit Learn *Working with Text* Example\n",
    "\n",
    "In the [Scikit Learn](http://scikit-learn.org/stable/) documentation there is an [article](http://scikit-learn.org/stable/tutorial/text_analytics/working_with_text_data.html) providing details about using Scikit learn to perform classification on the newsgroup data set.  One example in the article that produces good results is as follows:"
   ]
  },
  {
   "cell_type": "code",
   "execution_count": 2,
   "metadata": {
    "collapsed": false
   },
   "outputs": [
    {
     "name": "stdout",
     "output_type": "stream",
     "text": [
      "                        precision    recall  f1-score   support\n",
      "\n",
      "           alt.atheism       0.95      0.81      0.87       319\n",
      "         comp.graphics       0.88      0.97      0.92       389\n",
      "               sci.med       0.94      0.90      0.92       396\n",
      "soc.religion.christian       0.90      0.95      0.93       398\n",
      "\n",
      "           avg / total       0.92      0.91      0.91      1502\n",
      "\n"
     ]
    }
   ],
   "source": [
    "import numpy as np\n",
    "from sklearn.pipeline import Pipeline\n",
    "from sklearn.feature_extraction.text import CountVectorizer\n",
    "from sklearn.feature_extraction.text import TfidfTransformer\n",
    "from sklearn.linear_model import SGDClassifier\n",
    "from sklearn.datasets import fetch_20newsgroups\n",
    "from sklearn import metrics\n",
    "\n",
    "categories = ['alt.atheism', 'soc.religion.christian', 'comp.graphics', 'sci.med']\n",
    "twenty_train = fetch_20newsgroups(subset='train',\n",
    "                                  categories=categories, shuffle=True, random_state=42)\n",
    "twenty_test = fetch_20newsgroups(subset='test',\n",
    "                                 categories=categories, shuffle=True, random_state=42)\n",
    "\n",
    "text_clf = Pipeline([('vect', CountVectorizer()),\n",
    "                     ('tfidf', TfidfTransformer()),\n",
    "                     ('clf', SGDClassifier(loss='hinge', penalty='l2',\n",
    "                                            alpha=1e-3, n_iter=5, random_state=42)),\n",
    "])\n",
    "_ = text_clf.fit(twenty_train.data, twenty_train.target)\n",
    "predicted = text_clf.predict(twenty_test.data)\n",
    "\n",
    "print(metrics.classification_report(twenty_test.target, predicted,\n",
    "      target_names=twenty_test.target_names))"
   ]
  },
  {
   "cell_type": "markdown",
   "metadata": {},
   "source": [
    "## Purpose of this Notebook\n",
    "\n",
    "The rest of this notebook adapts the above example for the purposes of learning more about:\n",
    "\n",
    "- sklearn pipelines\n",
    "- custom sklearn TransformerMixins and BaseEstimators\n",
    "- feeding sklearn pipelines from jsonl files\n",
    "\n",
    "The classification problem being tested is slightly different than the one presented above. Namely:\n",
    "\n",
    "- the data is in jsonl format.. that is line delimited json dictionaries with keys for content and label\n",
    "- the classification problem is binary\n",
    "\n",
    "---"
   ]
  },
  {
   "cell_type": "markdown",
   "metadata": {},
   "source": [
    "## Preparing Test Data\n",
    "\n",
    "To simulate jsonl file conditions:\n",
    "\n",
    "- First we create a training data set by writing the newsgroup training data to a jsonl file, `test_data/train.jsonl`.  We will use `comp.graphics` as our target class so we will apply the label 1 if the newsgroup article is `comp.graphics` and 0 otherwise. \n",
    "\n",
    "- Next we write all categories from the newsgroup test data set line to a jsonl file, `test_data/test.jsonl` with the labels transformed to 0,1 as above.\n"
   ]
  },
  {
   "cell_type": "code",
   "execution_count": 3,
   "metadata": {
    "collapsed": false
   },
   "outputs": [],
   "source": [
    "## prepare the data for testing\n",
    "import json\n",
    "\n",
    "def ng_dir(data_type):\n",
    "    ''' simplify newsgroup jsonl acess, data_type = 'test' or 'train'\n",
    "    '''\n",
    "    return 'test_data/%s.jsonl' % data_type\n",
    "\n",
    "\n",
    "def write_ng_to_jsonl(ngdir, ngdat):\n",
    "    ''' write newsgroup data to jsonl file\n",
    "    '''\n",
    "    with open(ngdir, 'w') as f:\n",
    "        for i in range(len(ngdat.data)):\n",
    "            json.dump(\n",
    "                {'label': int(ngdat.target[i] == 3),\n",
    "                 'name': ngdat.target_names[ngdat.target[i]],\n",
    "                 'content': ngdat.data[i]\n",
    "            }, f)\n",
    "            f.write('\\n')\n",
    "\n",
    "\n",
    "write_ng_to_jsonl(ng_dir('train'), twenty_train)\n",
    "write_ng_to_jsonl(ng_dir('test'), twenty_test)"
   ]
  },
  {
   "cell_type": "markdown",
   "metadata": {},
   "source": [
    "Now that we have `train_data.jsonl` and `test_data.jsonl` we can use a modified version of the above example to perform binary classification based off of the jsonl data:"
   ]
  },
  {
   "cell_type": "code",
   "execution_count": 6,
   "metadata": {
    "collapsed": false
   },
   "outputs": [
    {
     "name": "stdout",
     "output_type": "stream",
     "text": [
      "                   precision    recall  f1-score   support\n",
      "\n",
      "not comp.graphics       0.93      0.98      0.96      1104\n",
      "    comp.graphics       0.94      0.81      0.87       398\n",
      "\n",
      "      avg / total       0.94      0.94      0.93      1502\n",
      "\n"
     ]
    }
   ],
   "source": [
    "import itertools as itt\n",
    "from textprocess import StripTransform\n",
    "\n",
    "text_clf = Pipeline([\n",
    "                     ('vect', CountVectorizer()),\n",
    "                     ('tfidf', TfidfTransformer()),\n",
    "                     ('clf', SGDClassifier(loss='hinge', penalty='l2',\n",
    "                                           alpha=1e-3, n_iter=5, random_state=42)),\n",
    "])\n",
    "\n",
    "with open(ng_dir('train'), 'r') as train, open(ng_dir('test'), 'r') as test:\n",
    "    x, y = itt.tee((json.loads(line) for line in train))\n",
    "    u, v = itt.tee((json.loads(line) for line in test))\n",
    "    predicted = text_clf.fit([i['content'] for i in x],\n",
    "                             [j['label'] for j in y]).predict([i['content'] for i in u])\n",
    "    print(metrics.classification_report([j['label'] for j in v], predicted,\n",
    "                                        target_names=['not comp.graphics', 'comp.graphics']))"
   ]
  },
  {
   "cell_type": "markdown",
   "metadata": {},
   "source": [
    "This also performs fairly well. Note that it performs better than the previous example because we reduced the number of classes.  Switching from `hinge` loss to `perceptron` loss yields slightly better results:"
   ]
  },
  {
   "cell_type": "code",
   "execution_count": 7,
   "metadata": {
    "collapsed": false
   },
   "outputs": [
    {
     "name": "stdout",
     "output_type": "stream",
     "text": [
      "                   precision    recall  f1-score   support\n",
      "\n",
      "not comp.graphics       0.95      0.97      0.96      1104\n",
      "    comp.graphics       0.91      0.84      0.88       398\n",
      "\n",
      "      avg / total       0.94      0.94      0.94      1502\n",
      "\n"
     ]
    }
   ],
   "source": [
    "text_clf = Pipeline([\n",
    "                     ('vect', CountVectorizer()),\n",
    "                     ('tfidf', TfidfTransformer()),\n",
    "                     ('clf', SGDClassifier(loss='perceptron', penalty='l2',\n",
    "                                           alpha=1e-3, n_iter=5, random_state=42)),\n",
    "])\n",
    "\n",
    "with open(ng_dir('train'), 'r') as train, open(ng_dir('test'), 'r') as test:\n",
    "    x, y = itt.tee((json.loads(line) for line in train))\n",
    "    u, v = itt.tee((json.loads(line) for line in test))\n",
    "    predicted = text_clf.fit([i['content'] for i in x],\n",
    "                             [j['label'] for j in y]).predict([i['content'] for i in u])\n",
    "    print(metrics.classification_report([j['label'] for j in v], predicted,\n",
    "                                        target_names=['not comp.graphics', 'comp.graphics']))"
   ]
  },
  {
   "cell_type": "markdown",
   "metadata": {},
   "source": [
    "The method `tee` from python `itertools` is used to stream the documents into the pipeline. However, the pipeline processes in memory so all documents are loaded from disk during `predict`.  This could be an issue when dealing with a larger set of documents. "
   ]
  },
  {
   "cell_type": "markdown",
   "metadata": {},
   "source": [
    "## Cosine Distance as BaseEstimator\n",
    "\n",
    "---\n",
    "\n",
    "Below we look at using Cosine Distance as a means to classify the newsgroup data. The approach stores the tfidf vector of the target class in the `train` data set during the `fit` stage.  When `predict` is called the Cosine distance is calculated between the `test` data and the stored target class.  We would expect documents in the `test` set from the target class would have a lower Cosine distance than those that are not in the target class."
   ]
  },
  {
   "cell_type": "code",
   "execution_count": 8,
   "metadata": {
    "collapsed": true
   },
   "outputs": [],
   "source": [
    "from sklearn.base import BaseEstimator\n",
    "from sklearn.metrics.pairwise import pairwise_distances\n",
    "from sklearn.metrics.pairwise import linear_kernel\n",
    "\n",
    "class CosineSim(BaseEstimator):\n",
    "    ''' store vector of target, predict by calculating cosine distance\n",
    "    '''\n",
    "    def transform(self, X, **transform_params):\n",
    "        return self\n",
    "\n",
    "    def fit(self, X, y, **fit_params):\n",
    "        ''' X is a tfidf matrix of the training set\n",
    "            reduce X to the tfidf of only documents in target class\n",
    "        '''\n",
    "        indices = np.array([i for i in range(len(y)) if y[i] == 1])\n",
    "        self.target_tfidf = X[indices, :].mean(axis=0)\n",
    "        \n",
    "    def predict(self, X, y=None, **predict_params):\n",
    "        d = 1 - linear_kernel(X, self.target_tfidf).flatten()\n",
    "        return d"
   ]
  },
  {
   "cell_type": "code",
   "execution_count": 9,
   "metadata": {
    "collapsed": false
   },
   "outputs": [],
   "source": [
    "from sklearn.feature_extraction.text import TfidfVectorizer\n",
    "\n",
    "pipe = Pipeline([\n",
    "    ('tfidf', TfidfVectorizer()), \n",
    "    ('cosine', CosineSim()) \n",
    "])\n",
    "\n",
    "with open(ng_dir('train'), 'r') as train, open(ng_dir('test'), 'r') as test:\n",
    "    x, y = itt.tee((json.loads(line) for line in train))\n",
    "    u, v = itt.tee((json.loads(line) for line in test))\n",
    "    d = pipe.fit([i['content'] for i in x],\n",
    "                 [j['label'] for j in y]).predict([i['content'] for i in u])"
   ]
  },
  {
   "cell_type": "markdown",
   "metadata": {},
   "source": [
    "## Examining the Results\n",
    "\n",
    "Above we defined `d` which is a vector of similarity scores for each document.  It is in the same order as the original candidate json list. We can use this order to combine the scores with the labels and generate plots or tables.\n",
    "\n",
    "---"
   ]
  },
  {
   "cell_type": "code",
   "execution_count": 10,
   "metadata": {
    "collapsed": false,
    "scrolled": false
   },
   "outputs": [
    {
     "data": {
      "image/png": "[encoded data removed]",
      "text/plain": [
       "<matplotlib.figure.Figure at 0x111447be0>"
      ]
     },
     "metadata": {},
     "output_type": "display_data"
    }
   ],
   "source": [
    "with open(ng_dir('test'), 'r') as test:\n",
    "    _, v = itt.tee((json.loads(line) for line in test))\n",
    "    result = [r for r in zip(['comp.graphics' if i['label'] == 1\n",
    "                              else 'not'\n",
    "                              for i in v], d)]\n",
    "    \n",
    "pd.DataFrame(result, columns=['label', 'score']).to_csv('temp.csv')\n",
    "ax = plt.axes()\n",
    "sns.violinplot(x=\"Cosine_Sim\", y=\"label\",\n",
    "              data=pd.DataFrame(result, columns=['label', 'Cosine_Sim']),\n",
    "              jitter=True)\n",
    "ax.set_title('Plot 1: Cosine Similarity by Label')\n",
    "plt.show()"
   ]
  },
  {
   "cell_type": "markdown",
   "metadata": {
    "collapsed": false
   },
   "source": [
    "From the above plot we can see that the newsgroup data is not highly seperable based on Cosine distance.  In order to classify the documents we would need assign a decision rule but `Plot 1` indicates that this would not be very effective.  However, Comparing the groups we can see that we do achieve some lift."
   ]
  },
  {
   "cell_type": "markdown",
   "metadata": {},
   "source": [
    "## Cosine Similarity as a Feature\n",
    "\n",
    "Since it looks like Cosine similarity yields lift, let's try using it as a feature for the `SGDClassifier`."
   ]
  },
  {
   "cell_type": "code",
   "execution_count": 11,
   "metadata": {
    "collapsed": false
   },
   "outputs": [],
   "source": [
    "from sklearn.base import TransformerMixin\n",
    "\n",
    "class CosineSimTrans(TransformerMixin):\n",
    "    ''' store vector of target, predict by calculating cosine distance\n",
    "    '''\n",
    "    def transform(self, X, **transform_params):\n",
    "        d = 1 - linear_kernel(self.target_tfidf, X).flatten()\n",
    "        return d.reshape(-1, 1)\n",
    "\n",
    "    def fit(self, X, y, **fit_params):\n",
    "        indices = np.array([i for i in range(len(y)) if y[i] == 1])\n",
    "        self.target_tfidf = X[indices, :].mean(axis=0)\n",
    "        return self"
   ]
  },
  {
   "cell_type": "code",
   "execution_count": 12,
   "metadata": {
    "collapsed": false
   },
   "outputs": [],
   "source": [
    "from sklearn.pipeline import FeatureUnion\n",
    "\n",
    "pipe = Pipeline([\n",
    "        ('union', FeatureUnion(\n",
    "            transformer_list=[\n",
    "                ('trans1', Pipeline([\n",
    "                    ('tfidf', TfidfVectorizer())\n",
    "                ])),\n",
    "                ('trans2', Pipeline([\n",
    "                    ('tfidf', TfidfVectorizer()),\n",
    "                    ('cosim', CosineSimTrans()),\n",
    "                ]))\n",
    "            ]\n",
    "        )),\n",
    "        ('estimators', Pipeline([\n",
    "                    ('clf', SGDClassifier(loss='perceptron', penalty='l2',\n",
    "                                          alpha=1e-3, n_iter=5, random_state=42))\n",
    "                    ])\n",
    "        )\n",
    "])"
   ]
  },
  {
   "cell_type": "code",
   "execution_count": 13,
   "metadata": {
    "collapsed": false
   },
   "outputs": [
    {
     "name": "stdout",
     "output_type": "stream",
     "text": [
      "                   precision    recall  f1-score   support\n",
      "\n",
      "not comp.graphics       0.98      0.95      0.97      1104\n",
      "    comp.graphics       0.88      0.96      0.92       398\n",
      "\n",
      "      avg / total       0.96      0.95      0.95      1502\n",
      "\n"
     ]
    }
   ],
   "source": [
    "with open(ng_dir('train'), 'r') as train, open(ng_dir('test'), 'r') as test:\n",
    "    x, y = itt.tee((json.loads(line) for line in train))\n",
    "    u, v = itt.tee((json.loads(line) for line in test))\n",
    "    predicted = pipe.fit([i['content'] for i in x],\n",
    "                 [j['label'] for j in y]).predict([i['content'] for i in u])\n",
    "    print(metrics.classification_report([j['label'] for j in v], predicted,\n",
    "                                    target_names=['not comp.graphics', 'comp.graphics']))"
   ]
  },
  {
   "cell_type": "markdown",
   "metadata": {},
   "source": [
    "And we have improved our classification's performance on the test data set."
   ]
  }
 ],
 "metadata": {
  "kernelspec": {
   "display_name": "Python 3",
   "language": "python",
   "name": "python3"
  },
  "language_info": {
   "codemirror_mode": {
    "name": "ipython",
    "version": 3
   },
   "file_extension": ".py",
   "mimetype": "text/x-python",
   "name": "python",
   "nbconvert_exporter": "python",
   "pygments_lexer": "ipython3",
   "version": "3.5.1"
  }
 },
 "nbformat": 4,
 "nbformat_minor": 0
}
